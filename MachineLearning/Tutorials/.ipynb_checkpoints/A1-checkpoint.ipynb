{
 "cells": [
  {
   "cell_type": "code",
   "execution_count": 74,
   "metadata": {},
   "outputs": [],
   "source": [
    "# import relevant libraries\n",
    "import numpy as np\n",
    "import numpy.random as rnd\n",
    "import matplotlib.pyplot as plt\n",
    "import sklearn.linear_model as lin\n",
    "#import bonnerlib3 as bl3d\n",
    "import pickle as pickle\n",
    "import time\n",
    "\n",
    "from sklearn.neighbors import KNeighborsClassifier\n",
    "from numpy.linalg import inv\n"
   ]
  },
  {
   "cell_type": "code",
   "execution_count": 19,
   "metadata": {},
   "outputs": [],
   "source": [
    "# set seed\n",
    "rnd.seed(3)"
   ]
  },
  {
   "cell_type": "code",
   "execution_count": 20,
   "metadata": {},
   "outputs": [
    {
     "name": "stdout",
     "output_type": "stream",
     "text": [
      "[[0.5507979  0.70814782 0.29090474 0.51082761 0.89294695]\n",
      " [0.89629309 0.12558531 0.20724288 0.0514672  0.44080984]\n",
      " [0.02987621 0.45683322 0.64914405 0.27848728 0.6762549 ]\n",
      " [0.59086282 0.02398188 0.55885409 0.25925245 0.4151012 ]]\n"
     ]
    }
   ],
   "source": [
    "B = np.array(rnd.random((4,5)))\n",
    "print(B)"
   ]
  },
  {
   "cell_type": "code",
   "execution_count": 21,
   "metadata": {},
   "outputs": [
    {
     "data": {
      "text/plain": [
       "array([[0.28352508],\n",
       "       [0.69313792],\n",
       "       [0.44045372],\n",
       "       [0.15686774]])"
      ]
     },
     "execution_count": 21,
     "metadata": {},
     "output_type": "execute_result"
    }
   ],
   "source": [
    "y = np.array(rnd.random((4,1))) \n",
    "y"
   ]
  },
  {
   "cell_type": "code",
   "execution_count": 22,
   "metadata": {},
   "outputs": [],
   "source": [
    "x = np.reshape(B, (2,10))"
   ]
  },
  {
   "cell_type": "code",
   "execution_count": 23,
   "metadata": {},
   "outputs": [
    {
     "data": {
      "text/plain": [
       "array([[0.5507979 , 0.70814782, 0.29090474, 0.51082761, 0.89294695,\n",
       "        0.89629309, 0.12558531, 0.20724288, 0.0514672 , 0.44080984],\n",
       "       [0.02987621, 0.45683322, 0.64914405, 0.27848728, 0.6762549 ,\n",
       "        0.59086282, 0.02398188, 0.55885409, 0.25925245, 0.4151012 ]])"
      ]
     },
     "execution_count": 23,
     "metadata": {},
     "output_type": "execute_result"
    }
   ],
   "source": [
    "x"
   ]
  },
  {
   "cell_type": "code",
   "execution_count": null,
   "metadata": {},
   "outputs": [],
   "source": []
  },
  {
   "cell_type": "code",
   "execution_count": 24,
   "metadata": {},
   "outputs": [],
   "source": [
    "d = B-y"
   ]
  },
  {
   "cell_type": "code",
   "execution_count": null,
   "metadata": {},
   "outputs": [],
   "source": []
  },
  {
   "cell_type": "code",
   "execution_count": 25,
   "metadata": {},
   "outputs": [
    {
     "name": "stdout",
     "output_type": "stream",
     "text": [
      "[0.28352508 0.69313792 0.44045372 0.15686774]\n"
     ]
    }
   ],
   "source": [
    "z = np.reshape(y,(4))\n",
    "print(z)"
   ]
  },
  {
   "cell_type": "code",
   "execution_count": 26,
   "metadata": {},
   "outputs": [
    {
     "data": {
      "text/plain": [
       "(4,)"
      ]
     },
     "execution_count": 26,
     "metadata": {},
     "output_type": "execute_result"
    }
   ],
   "source": [
    "z.shape"
   ]
  },
  {
   "cell_type": "code",
   "execution_count": 27,
   "metadata": {},
   "outputs": [],
   "source": [
    "B[:, 3] = z"
   ]
  },
  {
   "cell_type": "code",
   "execution_count": 28,
   "metadata": {},
   "outputs": [
    {
     "data": {
      "text/plain": [
       "array([[0.5507979 , 0.70814782, 0.29090474, 0.28352508, 0.89294695],\n",
       "       [0.89629309, 0.12558531, 0.20724288, 0.69313792, 0.44080984],\n",
       "       [0.02987621, 0.45683322, 0.64914405, 0.44045372, 0.6762549 ],\n",
       "       [0.59086282, 0.02398188, 0.55885409, 0.15686774, 0.4151012 ]])"
      ]
     },
     "execution_count": 28,
     "metadata": {},
     "output_type": "execute_result"
    }
   ],
   "source": [
    "B"
   ]
  },
  {
   "cell_type": "code",
   "execution_count": 29,
   "metadata": {},
   "outputs": [
    {
     "data": {
      "text/plain": [
       "array([[ 0.57442982,  0.42462274,  0.00737966,  0.22730252,  0.60942187],\n",
       "       [ 0.9003808 , -0.56755261, -0.48589504, -0.64167072, -0.25232807],\n",
       "       [ 1.08959777,  0.01637951,  0.20869033, -0.16196644,  0.23580118],\n",
       "       [ 0.71572183, -0.13288586,  0.40198635,  0.10238471,  0.25823346]])"
      ]
     },
     "execution_count": 29,
     "metadata": {},
     "output_type": "execute_result"
    }
   ],
   "source": [
    "d[:, 0] = B[:, 2] + z\n",
    "d"
   ]
  },
  {
   "cell_type": "code",
   "execution_count": 30,
   "metadata": {},
   "outputs": [
    {
     "data": {
      "text/plain": [
       "(4, 5)"
      ]
     },
     "execution_count": 30,
     "metadata": {},
     "output_type": "execute_result"
    }
   ],
   "source": [
    "B.shape"
   ]
  },
  {
   "cell_type": "code",
   "execution_count": 31,
   "metadata": {},
   "outputs": [
    {
     "data": {
      "text/plain": [
       "array([[0.5507979 , 0.70814782, 0.29090474, 0.28352508, 0.89294695],\n",
       "       [0.89629309, 0.12558531, 0.20724288, 0.69313792, 0.44080984],\n",
       "       [0.02987621, 0.45683322, 0.64914405, 0.44045372, 0.6762549 ]])"
      ]
     },
     "execution_count": 31,
     "metadata": {},
     "output_type": "execute_result"
    }
   ],
   "source": [
    "np.array(B[:3])"
   ]
  },
  {
   "cell_type": "code",
   "execution_count": 32,
   "metadata": {},
   "outputs": [
    {
     "name": "stdout",
     "output_type": "stream",
     "text": [
      "[]\n"
     ]
    }
   ],
   "source": [
    "print(B[:3, []])"
   ]
  },
  {
   "cell_type": "code",
   "execution_count": 33,
   "metadata": {},
   "outputs": [
    {
     "name": "stdout",
     "output_type": "stream",
     "text": [
      "[[0.70814782 0.28352508]\n",
      " [0.12558531 0.69313792]\n",
      " [0.45683322 0.44045372]\n",
      " [0.02398188 0.15686774]]\n"
     ]
    }
   ],
   "source": [
    "print( B[:, [1,3]] )"
   ]
  },
  {
   "cell_type": "markdown",
   "metadata": {},
   "source": [
    "## Question 3"
   ]
  },
  {
   "cell_type": "code",
   "execution_count": 56,
   "metadata": {},
   "outputs": [],
   "source": [
    "# Read in the correspongind data and libraries\n",
    "# import relevant libraries\n",
    "import numpy as np\n",
    "import numpy.random as rnd\n",
    "import matplotlib.pyplot as plt\n",
    "import sklearn.linear_model as lin\n",
    "# import bonnerlib3 as bl3d\n",
    "import pickle as pickle\n",
    "import time\n",
    "\n",
    "from sklearn.neighbors import KNeighborsClassifier\n",
    "from numpy.linalg import inv\n",
    "# Read in the Data file.\n",
    "with open(\"/home/tahir/Desktop/Datasets/dataA1Q3.pickle\", \"rb\") as f:\n",
    "    dataTrain,dataTest = pickle.load(f)\n",
    "    \n",
    "# Make the data a numpy array\n",
    "trainMatrix = np.array(dataTrain)\n",
    "testMatrix = np.array(dataTest)\n",
    "\n",
    "# read in the train data into corresponding variables.\n",
    "# x and t are both 30x1. \n",
    "x_train = np.array(trainMatrix[0]).transpose()\n",
    "t_train = np.array(trainMatrix[1]).transpose()"
   ]
  },
  {
   "cell_type": "code",
   "execution_count": 68,
   "metadata": {},
   "outputs": [],
   "source": [
    "\n",
    "def least_squares(x,t):\n",
    "    \"\"\" \n",
    "    Take a vector x of input values, and vector t of target values\n",
    "    Return the Optimal values of A and B, as (b,a). \n",
    "    \"\"\"\n",
    "    N = len(x)    # number of data points    \n",
    "    X = np.ones([N,2])    # space for the data matrix    \n",
    "    X[:,1] = x    # insert the training data into the data matrix\n",
    "    # Compute the least squares formula (given from slides) \n",
    "    w = inv(X.T.dot(X)).dot(X.T).dot(t)\n",
    "    return w\n"
   ]
  },
  {
   "cell_type": "code",
   "execution_count": 66,
   "metadata": {},
   "outputs": [
    {
     "data": {
      "text/plain": [
       "0.856"
      ]
     },
     "execution_count": 66,
     "metadata": {},
     "output_type": "execute_result"
    }
   ],
   "source": [
    "\n",
    "# Retrieve the training and test data\n",
    "with open(\"/home/tahir/Desktop/Datasets/dataA1Q4v2.pickle\",\"rb\") as f:\n",
    "    Xtrain,Ttrain,Xtest,Ttest = pickle.load(f)\n",
    "    \n",
    "# Create a classification object, clf\n",
    "clf = lin.LogisticRegression()\n",
    "# Learn a logistic-regression classifier\n",
    "clf.fit(Xtrain,Ttrain)\n",
    "# weight vector \n",
    "w = clf.coef_[0]\n",
    "# bais term\n",
    "w0 = clf.intercept_[0]\n",
    "\n",
    "accuracy = clf.score(Xtest,Ttest)\n",
    "accuracy #Not bad"
   ]
  },
  {
   "cell_type": "code",
   "execution_count": 61,
   "metadata": {},
   "outputs": [
    {
     "data": {
      "text/plain": [
       "array([0.01694442, 1.49601981, 0.03738886])"
      ]
     },
     "execution_count": 61,
     "metadata": {},
     "output_type": "execute_result"
    }
   ],
   "source": [
    "w"
   ]
  },
  {
   "cell_type": "code",
   "execution_count": 62,
   "metadata": {},
   "outputs": [
    {
     "data": {
      "text/plain": [
       "-2.6250489555396475"
      ]
     },
     "execution_count": 62,
     "metadata": {},
     "output_type": "execute_result"
    }
   ],
   "source": [
    "w0"
   ]
  },
  {
   "cell_type": "code",
   "execution_count": 63,
   "metadata": {},
   "outputs": [
    {
     "data": {
      "text/plain": [
       "array([ 0.01694442,  1.49601981,  0.03738886, -2.62504896])"
      ]
     },
     "execution_count": 63,
     "metadata": {},
     "output_type": "execute_result"
    }
   ],
   "source": [
    "np.append(w,w0)"
   ]
  },
  {
   "cell_type": "markdown",
   "metadata": {},
   "source": [
    "# Question 4 - Logistic Classifier"
   ]
  },
  {
   "cell_type": "code",
   "execution_count": 72,
   "metadata": {},
   "outputs": [],
   "source": [
    "# Retrieve the training and test data\n",
    "with open(\"/home/tahir/Desktop/Datasets/dataA1Q4v2.pickle\",\"rb\") as f:\n",
    "    Xtrain,Ttrain,Xtest,Ttest = pickle.load(f)\n",
    "    "
   ]
  },
  {
   "cell_type": "code",
   "execution_count": 79,
   "metadata": {},
   "outputs": [
    {
     "data": {
      "text/plain": [
       "-2.6250489555396475"
      ]
     },
     "execution_count": 79,
     "metadata": {},
     "output_type": "execute_result"
    }
   ],
   "source": [
    "# Train using Sklearn\n",
    "clf = lin.LogisticRegression()\n",
    "clf.fit(Xtrain,Ttrain)\n",
    "clf.score(Xtest, Ttest)\n",
    "\n",
    "clf.coef_[0]\n",
    "clf.intercept_[0]"
   ]
  },
  {
   "cell_type": "code",
   "execution_count": 80,
   "metadata": {},
   "outputs": [
    {
     "name": "stdout",
     "output_type": "stream",
     "text": [
      "\n",
      "\n",
      "Question 4(b):\n",
      "--------------\n",
      "Accuracy1 is:\n",
      " 0.856\n",
      "Accuracy2 is:\n",
      " 0.856 \n",
      "The difference is:\n",
      " 0.0\n"
     ]
    }
   ],
   "source": [
    "print(\"\\n\\nQuestion 4(b):\")\n",
    "print(\"--------------\")\n",
    "\n",
    "# Compute the test accuracy of your Logistic Regression Model\n",
    "# Method (1): Using the Score method. \n",
    "accuracy1 = clf.score(Xtest,Ttest)\n",
    "\n",
    "# Method (2): Using the formulas on the lecture slides.\n",
    "# Compute your wieght matrix, and add the bais term. \n",
    "bais = np.ones(len(Xtest))  # nx1\n",
    "X = np.column_stack((bais,Xtest))  # nx4\n",
    "# Get the Optimal Wieghts, beta_hat\n",
    "Beta_hat = np.append(w0,w)\n",
    "# This is MLR model, Y = X*B\n",
    "z = np.dot(X,Beta_hat)\n",
    "# Pass it in through the sigmoid\n",
    "yhat = 1 / (1 + np.exp(-z))\n",
    "yhat = np.where(yhat > 0.5, 1, 0)\n",
    "accuracy2 = np.mean(np.equal(yhat,Ttest))\n",
    "difference = accuracy1 - accuracy2\n",
    "print(\"Accuracy1 is:\\n {}\\nAccuracy2 is:\\n {} \\nThe difference is:\\n {}\".format(accuracy1, accuracy2, difference))\n",
    "    "
   ]
  },
  {
   "cell_type": "code",
   "execution_count": null,
   "metadata": {},
   "outputs": [],
   "source": []
  }
 ],
 "metadata": {
  "kernelspec": {
   "display_name": "Python 3",
   "language": "python",
   "name": "python3"
  }
 },
 "nbformat": 4,
 "nbformat_minor": 4
}
